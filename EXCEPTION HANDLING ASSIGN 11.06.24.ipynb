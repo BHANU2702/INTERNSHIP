{
 "cells": [
  {
   "cell_type": "code",
   "execution_count": 1,
   "id": "10dae9c7",
   "metadata": {},
   "outputs": [
    {
     "name": "stdout",
     "output_type": "stream",
     "text": [
      "Requirement already satisfied: selenium in c:\\users\\bhawn\\anaconda3\\lib\\site-packages (4.21.0)\n",
      "Requirement already satisfied: urllib3[socks]<3,>=1.26 in c:\\users\\bhawn\\anaconda3\\lib\\site-packages (from selenium) (1.26.16)\n",
      "Requirement already satisfied: trio~=0.17 in c:\\users\\bhawn\\anaconda3\\lib\\site-packages (from selenium) (0.25.1)\n",
      "Requirement already satisfied: trio-websocket~=0.9 in c:\\users\\bhawn\\anaconda3\\lib\\site-packages (from selenium) (0.11.1)\n",
      "Requirement already satisfied: certifi>=2021.10.8 in c:\\users\\bhawn\\anaconda3\\lib\\site-packages (from selenium) (2023.7.22)\n",
      "Requirement already satisfied: typing_extensions>=4.9.0 in c:\\users\\bhawn\\anaconda3\\lib\\site-packages (from selenium) (4.12.0)\n",
      "Requirement already satisfied: attrs>=23.2.0 in c:\\users\\bhawn\\anaconda3\\lib\\site-packages (from trio~=0.17->selenium) (23.2.0)\n",
      "Requirement already satisfied: sortedcontainers in c:\\users\\bhawn\\anaconda3\\lib\\site-packages (from trio~=0.17->selenium) (2.4.0)\n",
      "Requirement already satisfied: idna in c:\\users\\bhawn\\anaconda3\\lib\\site-packages (from trio~=0.17->selenium) (3.4)\n",
      "Requirement already satisfied: outcome in c:\\users\\bhawn\\anaconda3\\lib\\site-packages (from trio~=0.17->selenium) (1.3.0.post0)\n",
      "Requirement already satisfied: sniffio>=1.3.0 in c:\\users\\bhawn\\anaconda3\\lib\\site-packages (from trio~=0.17->selenium) (1.3.1)\n",
      "Requirement already satisfied: cffi>=1.14 in c:\\users\\bhawn\\anaconda3\\lib\\site-packages (from trio~=0.17->selenium) (1.15.1)\n",
      "Requirement already satisfied: wsproto>=0.14 in c:\\users\\bhawn\\anaconda3\\lib\\site-packages (from trio-websocket~=0.9->selenium) (1.2.0)\n",
      "Requirement already satisfied: PySocks!=1.5.7,<2.0,>=1.5.6 in c:\\users\\bhawn\\anaconda3\\lib\\site-packages (from urllib3[socks]<3,>=1.26->selenium) (1.7.1)\n",
      "Requirement already satisfied: pycparser in c:\\users\\bhawn\\anaconda3\\lib\\site-packages (from cffi>=1.14->trio~=0.17->selenium) (2.21)\n",
      "Requirement already satisfied: h11<1,>=0.9.0 in c:\\users\\bhawn\\anaconda3\\lib\\site-packages (from wsproto>=0.14->trio-websocket~=0.9->selenium) (0.14.0)\n"
     ]
    }
   ],
   "source": [
    "! pip install selenium"
   ]
  },
  {
   "cell_type": "code",
   "execution_count": 2,
   "id": "c744b438",
   "metadata": {},
   "outputs": [],
   "source": [
    "# Importing Libraries\n",
    "import selenium\n",
    "import pandas as pd\n",
    "import time\n",
    "from bs4 import BeautifulSoup\n",
    "\n",
    "# Importing selenium webdriver\n",
    "from selenium import webdriver\n",
    "\n",
    "# Importing required Exceptions which needs to be handled\n",
    "from selenium.common.exceptions import StaleElementReferenceException,NoSuchElementException\n",
    "\n",
    "# Importing requests\n",
    "import requests\n",
    "\n",
    "from selenium.webdriver.common.by import By"
   ]
  },
  {
   "cell_type": "markdown",
   "id": "ec2cd986",
   "metadata": {},
   "source": [
    "QUES 1: Write a python program which searches all the product under a particular product from www.amazon.in. \n",
    "    The product to be searched will be taken as input from user. For e.g. If user input is ‘guitar’.\n",
    "    Then search for guitars.\n"
   ]
  },
  {
   "cell_type": "code",
   "execution_count": 3,
   "id": "1a0681ea",
   "metadata": {},
   "outputs": [],
   "source": [
    "driver=webdriver.Chrome()\n",
    "\n",
    "# fetching url\n",
    "driver.get('https://www.amazon.in')"
   ]
  },
  {
   "cell_type": "code",
   "execution_count": null,
   "id": "eb497b89",
   "metadata": {},
   "outputs": [],
   "source": [
    "product_name=input(\"Which amazon product do you have in mind ?:\")"
   ]
  },
  {
   "cell_type": "code",
   "execution_count": null,
   "id": "fcf7a96d",
   "metadata": {},
   "outputs": [],
   "source": [
    "# give some time to load the webpage\n",
    "time.sleep(2)\n",
    "\n",
    "# get web element for amazon search bar\n",
    "search_wbe=driver.find_element(By.ID,\"nav-bb-search\")\n",
    "#enter the product into search bar\n",
    "search_wbe.send_keys(product_name,Keys.ENTER)\n",
    "\n",
    "# give some time to load the search results\n",
    "time.sleep(2)"
   ]
  },
  {
   "cell_type": "markdown",
   "id": "eb6c1558",
   "metadata": {},
   "source": [
    "QUES 2:In the above question, now scrape the following details of each product listed in first 3 pages\n",
    "    of your search results and save it in a data frame and csv. \n",
    "    In case if any product has less than 3 pages in search results then scrape all the products available\n",
    "    under that product name. Details to be scraped are: \"Brand\n",
    "Name\", \"Name of the Product\", \"Price\", \"Return/Exchange\", \"Expected Delivery\", \"Availability\" and\n",
    "“Product URL”. In case, if any of the details are missing for any of the product then replace it by “-“."
   ]
  },
  {
   "cell_type": "code",
   "execution_count": null,
   "id": "3ed2ff0b",
   "metadata": {},
   "outputs": [],
   "source": [
    "driver=webdriver.Chrome()\n",
    "\n",
    "# fetching url\n",
    "driver.get('https://www.amazon.in')"
   ]
  },
  {
   "cell_type": "code",
   "execution_count": null,
   "id": "cb88a96e",
   "metadata": {},
   "outputs": [],
   "source": [
    "product_name=input(\"Which amazon product do you have in mind ?:\")"
   ]
  },
  {
   "cell_type": "code",
   "execution_count": null,
   "id": "980f3d8e",
   "metadata": {},
   "outputs": [],
   "source": [
    "# give some time to load the webpage\n",
    "time.sleep(2)\n",
    "\n",
    "# get web element for amazon search bar\n",
    "search_gui=driver.find_element(By.ID,\"nav-bb-search\")\n",
    "#enter the product into search bar\n",
    "search_gui.send_keys(product_name,Keys.ENTER)\n",
    "\n",
    "# give some time to load the search results\n",
    "time.sleep(2)"
   ]
  },
  {
   "cell_type": "code",
   "execution_count": null,
   "id": "023d1467",
   "metadata": {},
   "outputs": [],
   "source": [
    "def fetch_product():\n",
    "# first get all product tiles from current webpage\n",
    "#get product tiles webelements\n",
    "global tiles_gui\n",
    "tiles_gui=[]\n",
    "tiles_gui.clear()\n",
    "    \n",
    "tiles_gui=driver.find_elements(By.XPATH,\"//div[contains(@data-asin,'B0') and @data-component-type='s-search-result']\")\n",
    "    \n",
    "# click on each tile one by one and get product info\n",
    "for i in range(0,len(tiles_gui)):\n",
    "    \n",
    "        temp_gui=tiles_gui[i]\n",
    "        #add time\n",
    "        time.sleep(2)\n",
    "        temp_gui.click()\n",
    "        try:\n",
    "            # switch to new window\n",
    "            driver.switch_to.window(driver.window_handles[1])\n",
    "        except IndexError:\n",
    "            temp_gui=tiles_gui[i]\n",
    "            time.sleep(2)\n",
    "            temp_gui.click()\n",
    "            driver.switch_to.window(driver.window_handles[1])\n",
    "# add timer\n",
    "time.sleep(3)\n",
    "        \n",
    "        \n",
    "# get \"enter pincode\" button webelement\n",
    "pincode_gui=driver.find_element(By.XPATH,\"//div[@id='contextualIngressPtLabel_deliveryShortLine']\")\n",
    "        \n",
    "if pincode_gui.text=='Select delivery location':\n",
    "            #click on 'enter pincode' button\n",
    "            pincode_gui.click()\n",
    "            #add time to load pincode sub-window\n",
    "            time.sleep(2)\n",
    "            #get the webelement for pincode entry bar\n",
    "            pin_bar_gui=driver.find_element(By.XPATH,\"//input[@class='GLUX_Full_Width a-declarative']\")\n",
    "            #enter into pincode bar\n",
    "            pin_bar_gui.send_keys('110091')\n",
    "            #get webelement for pincode 'Apply' button\n",
    "            apply_btn=driver.find_element(By.XPATH,\"//input[@aria-labelledby='GLUXZipUpdate-announce']\")\n",
    "            #click on pincode 'Apply' button\n",
    "            apply_btn.click()\n",
    "            #add time to load the webpage after pincode enter\n",
    "            time.sleep(3)\n",
    "#===================================================== \n",
    "time.sleep(3)\n",
    "\n",
    "# calling the function to fetch data from current webpage\n",
    "fetch_data()\n",
    "        \n",
    "# give some time to fetch data\n",
    "time.sleep(3)\n",
    "        \n",
    "# close the particular product tab\n",
    "driver.close()\n",
    "        \n",
    "# switch driver to main window with search results\n",
    "driver.switch_to.window(driver.window_handles[0])\n",
    "        \n",
    "time.sleep(2)"
   ]
  },
  {
   "cell_type": "code",
   "execution_count": null,
   "id": "b0443bbd",
   "metadata": {},
   "outputs": [],
   "source": [
    "def fetch_data():\n",
    "\"\"\"this function gets required data from the current product webpage\"\"\"\n",
    "    \n",
    "# get brand name\n",
    "brand_gui=driver.find_element(By.XPATH,\"//span[@id='productTitle']\")\n",
    "brands.append(brand_gui.text.split(' ')[0])\n",
    "\n",
    "# get name of the product\n",
    "products.append(brand_gui.text)\n",
    "\n",
    "# get the rating\n",
    "    try:\n",
    "        rating_gui=driver.find_element(By.XPATH,\"//span[@data-hook='rating-out-of-text']\") # only first instance of webelement from this page is required\n",
    "        ratings.append(rating_gui.text)\n",
    "    except NoSuchElementException:\n",
    "        ratings.append('--')\n",
    "\n",
    "# get number of ratings\n",
    "    try:\n",
    "        number_ratings_gui=driver.find_element(By.XPATH,\"//a[@id='acrCustomerReviewLink']//following::span\")\n",
    "        number_ratings.append(number_ratings_gui.text.split(\" \")[0])\n",
    "    except NoSuchElementException:\n",
    "        number_ratings.append('--')\n",
    " \n",
    " # get price \n",
    "    try:\n",
    "        price_gui=driver.find_element(By.XPATH,\"//span[@id='priceblock_ourprice']\")\n",
    "        prices.append(price_gui.text)\n",
    "    except NoSuchElementException:\n",
    "        try:\n",
    "            price_gui=driver.find_element(By.XPATH,\"//span[@id='priceblock_dealprice']\")\n",
    "            prices.append(price_gui.text+\"(Deal price)\")\n",
    "        except NoSuchElementException:\n",
    "            try:\n",
    "                price_gui=driver.find_element(By.XPATH,\"//span[@class='a-price-whole']\")\n",
    "                prices.append(price_gui.text+\"(Prime member price)\")\n",
    "            except NoSuchElementException:\n",
    "                prices.append('--')\n",
    "    \n",
    "# get return/exchange data\n",
    "    try:\n",
    "        xchange_gui=driver.find_element(By.XPATH,\"//a[@class='a-size-small a-link-normal a-text-normal']\")\n",
    "        xchanges.append(xchange_gui.text)\n",
    "    except NoSuchElementException:\n",
    "        xchanges.append('--')\n",
    "         \n",
    "\n",
    "# get expected delivery webelement\n",
    "    try:\n",
    "        xp_del_gui=driver.find_element(By.XPATH,\"//div[@id='ddmDeliveryMessage']\")\n",
    "        if xp_del_gui.text!='':\n",
    "            xp_deliveries.append(xp_del_gui.text)\n",
    "        else:\n",
    "            xp_deliveries.append(\"Currently not available\")\n",
    "    except NoSuchElementException:\n",
    "        xp_deliveries.append('--')\n",
    "         \n",
    " # get product availability\n",
    "    try:\n",
    "        prod_avail_gui=driver.find_element(By.XPATH,\"//div[@id='availability']\")\n",
    "        prod_avail.append(prod_avail_gui.text)\n",
    "    except NoSuchElementException:\n",
    "        prod_avail.append('--')     \n",
    "\n",
    "# get other details\n",
    "    try:\n",
    "        other_details_gui=driver.find_element(By.XPATH,\"//div[@id='featurebullets_feature_div']\")\n",
    "        other_details.append(other_details_gui.text.replace(\"\\n\",\".\"))\n",
    "    except NoSuchElementException:\n",
    "        other_details.append('--')\n",
    "   \n",
    " # get product url\n",
    "    prod_url.append(driver.current_url)"
   ]
  },
  {
   "cell_type": "code",
   "execution_count": null,
   "id": "b238a3ea",
   "metadata": {},
   "outputs": [],
   "source": [
    "brands=[]\n",
    "brands.clear()\n",
    "\n",
    "products=[]\n",
    "products.clear()\n",
    "\n",
    "ratings=[]\n",
    "ratings.clear()\n",
    "\n",
    "number_ratings=[]\n",
    "number_ratings.clear()\n",
    "\n",
    "prices=[]\n",
    "prices.clear()\n",
    "\n",
    "xchanges=[]\n",
    "xchanges.clear()\n",
    "\n",
    "xp_deliveries=[]\n",
    "xp_deliveries.clear()\n",
    "\n",
    "prod_avail=[]\n",
    "prod_avail.clear()\n",
    "\n",
    "other_details=[]\n",
    "other_details.clear()\n",
    "\n",
    "prod_url=[]\n",
    "prod_url.clear()\n",
    "\n",
    "page_urls=[]\n",
    "page_urls.clear()\n",
    "input_prompt=input(\"Which amazon product do you have in mind ?:\")\n",
    "\n",
    "amzn_search(input_prompt)\n",
    "\n",
    "#add time\n",
    "time.sleep(3)\n",
    "\n",
    "# get web element for webpage number button\n",
    "page_guigui=driver.find_elements(By.XPATH,\"//ul[@class='a-pagination']//following::a\")\n",
    "\n",
    "# get urls of 1st 3 pages\n",
    "for i in page_gui:\n",
    "    temp_url= i.get_attribute('href')\n",
    "    page_urls.append(temp_url)\n",
    "    if len(page_urls)==3:\n",
    "        break\n",
    "\n",
    "counter=1\n",
    "# get product info by iterating over each page\n",
    "for url in page_urls:\n",
    "    if counter == 1: # first page check\n",
    "        time.sleep(2)\n",
    "        fetch_product() # get webelemets for product titles, then click on each title and open the product in new tab and get info.\n",
    "        counter=2\n",
    "    elif counter != 1: # first page scraping complete\n",
    "        time.sleep(2)\n",
    "        # open the next webpage in current tab\n",
    "        driver.get(url)\n",
    "        \n",
    "        # give time to load\n",
    "        time.sleep(3)\n",
    "        \n",
    "        # fetch data from current webpage\n",
    "        fetch_product()\n",
    "        \n",
    "        # time\n",
    "        time.sleep(3)"
   ]
  },
  {
   "cell_type": "code",
   "execution_count": null,
   "id": "cfa86782",
   "metadata": {},
   "outputs": [],
   "source": [
    "len(brands)"
   ]
  },
  {
   "cell_type": "code",
   "execution_count": null,
   "id": "a71a3a05",
   "metadata": {},
   "outputs": [],
   "source": [
    "pd.set_option('display.max_colwidth',None)"
   ]
  },
  {
   "cell_type": "code",
   "execution_count": null,
   "id": "4ceb9868",
   "metadata": {},
   "outputs": [],
   "source": [
    "pd.set_option('display.max_rows',None)"
   ]
  },
  {
   "cell_type": "code",
   "execution_count": null,
   "id": "91a95c1f",
   "metadata": {},
   "outputs": [],
   "source": [
    "amzn_3pg"
   ]
  },
  {
   "cell_type": "code",
   "execution_count": null,
   "id": "4036b881",
   "metadata": {},
   "outputs": [],
   "source": []
  },
  {
   "cell_type": "code",
   "execution_count": null,
   "id": "6472fe48",
   "metadata": {},
   "outputs": [],
   "source": []
  },
  {
   "cell_type": "code",
   "execution_count": null,
   "id": "ac3235fc",
   "metadata": {},
   "outputs": [],
   "source": []
  },
  {
   "cell_type": "code",
   "execution_count": null,
   "id": "55ab6a52",
   "metadata": {},
   "outputs": [],
   "source": []
  },
  {
   "cell_type": "markdown",
   "id": "94106e4a",
   "metadata": {},
   "source": [
    "QUES 3:Write a python program to access the search bar and search button on images.google.com and scrape 10 images each for keywords ‘fruits’, ‘cars’ and ‘Machine Learning’, ‘Guitar’, ‘Cakes’."
   ]
  },
  {
   "cell_type": "markdown",
   "id": "d06212ec",
   "metadata": {},
   "source": [
    "FRUITS PICTURES"
   ]
  },
  {
   "cell_type": "code",
   "execution_count": 21,
   "id": "66734591",
   "metadata": {},
   "outputs": [],
   "source": [
    "driver=webdriver.Chrome()\n",
    "\n",
    "# fetching url\n",
    "driver.get('https://www.google.co.in/imghp?hl=en&ogbl')\n",
    "time.sleep(5)"
   ]
  },
  {
   "cell_type": "code",
   "execution_count": 27,
   "id": "2d7b95aa",
   "metadata": {},
   "outputs": [
    {
     "name": "stdout",
     "output_type": "stream",
     "text": [
      "Enter an element: fruits\n"
     ]
    }
   ],
   "source": [
    "search_images=input(\"Enter an element: \")"
   ]
  },
  {
   "cell_type": "code",
   "execution_count": 28,
   "id": "4f58e2d0",
   "metadata": {},
   "outputs": [
    {
     "ename": "ElementNotInteractableException",
     "evalue": "Message: element not interactable\n  (Session info: chrome=125.0.6422.142)\nStacktrace:\n\tGetHandleVerifier [0x00007FF786DE1F52+60322]\n\t(No symbol) [0x00007FF786D5CEC9]\n\t(No symbol) [0x00007FF786C17CE9]\n\t(No symbol) [0x00007FF786C61093]\n\t(No symbol) [0x00007FF786C5F20B]\n\t(No symbol) [0x00007FF786C8C21A]\n\t(No symbol) [0x00007FF786C5ADB6]\n\t(No symbol) [0x00007FF786C8C430]\n\t(No symbol) [0x00007FF786CABC80]\n\t(No symbol) [0x00007FF786C8BFC3]\n\t(No symbol) [0x00007FF786C59617]\n\t(No symbol) [0x00007FF786C5A211]\n\tGetHandleVerifier [0x00007FF7870F94AD+3301629]\n\tGetHandleVerifier [0x00007FF7871436D3+3605283]\n\tGetHandleVerifier [0x00007FF787139450+3563680]\n\tGetHandleVerifier [0x00007FF786E94326+790390]\n\t(No symbol) [0x00007FF786D6750F]\n\t(No symbol) [0x00007FF786D63404]\n\t(No symbol) [0x00007FF786D63592]\n\t(No symbol) [0x00007FF786D52F9F]\n\tBaseThreadInitThunk [0x00007FFFDB14257D+29]\n\tRtlUserThreadStart [0x00007FFFDC3CAA48+40]\n",
     "output_type": "error",
     "traceback": [
      "\u001b[1;31m---------------------------------------------------------------------------\u001b[0m",
      "\u001b[1;31mElementNotInteractableException\u001b[0m           Traceback (most recent call last)",
      "Cell \u001b[1;32mIn[28], line 4\u001b[0m\n\u001b[0;32m      2\u001b[0m search_bar\u001b[38;5;241m=\u001b[39mdriver\u001b[38;5;241m.\u001b[39mfind_element(By\u001b[38;5;241m.\u001b[39mCLASS_NAME,\u001b[38;5;124m\"\u001b[39m\u001b[38;5;124ma4bIc\u001b[39m\u001b[38;5;124m\"\u001b[39m)\n\u001b[0;32m      3\u001b[0m \u001b[38;5;66;03m#enter text into search bar\u001b[39;00m\n\u001b[1;32m----> 4\u001b[0m search_bar\u001b[38;5;241m.\u001b[39msend_keys(search_images)\n\u001b[0;32m      5\u001b[0m \u001b[38;5;66;03m# give time to load the images page\u001b[39;00m\n\u001b[0;32m      6\u001b[0m time\u001b[38;5;241m.\u001b[39msleep(\u001b[38;5;241m5\u001b[39m)\n",
      "File \u001b[1;32m~\\anaconda3\\Lib\\site-packages\\selenium\\webdriver\\remote\\webelement.py:231\u001b[0m, in \u001b[0;36mWebElement.send_keys\u001b[1;34m(self, *value)\u001b[0m\n\u001b[0;32m    228\u001b[0m             remote_files\u001b[38;5;241m.\u001b[39mappend(\u001b[38;5;28mself\u001b[39m\u001b[38;5;241m.\u001b[39m_upload(file))\n\u001b[0;32m    229\u001b[0m         value \u001b[38;5;241m=\u001b[39m \u001b[38;5;124m\"\u001b[39m\u001b[38;5;130;01m\\n\u001b[39;00m\u001b[38;5;124m\"\u001b[39m\u001b[38;5;241m.\u001b[39mjoin(remote_files)\n\u001b[1;32m--> 231\u001b[0m \u001b[38;5;28mself\u001b[39m\u001b[38;5;241m.\u001b[39m_execute(\n\u001b[0;32m    232\u001b[0m     Command\u001b[38;5;241m.\u001b[39mSEND_KEYS_TO_ELEMENT, {\u001b[38;5;124m\"\u001b[39m\u001b[38;5;124mtext\u001b[39m\u001b[38;5;124m\"\u001b[39m: \u001b[38;5;124m\"\u001b[39m\u001b[38;5;124m\"\u001b[39m\u001b[38;5;241m.\u001b[39mjoin(keys_to_typing(value)), \u001b[38;5;124m\"\u001b[39m\u001b[38;5;124mvalue\u001b[39m\u001b[38;5;124m\"\u001b[39m: keys_to_typing(value)}\n\u001b[0;32m    233\u001b[0m )\n",
      "File \u001b[1;32m~\\anaconda3\\Lib\\site-packages\\selenium\\webdriver\\remote\\webelement.py:395\u001b[0m, in \u001b[0;36mWebElement._execute\u001b[1;34m(self, command, params)\u001b[0m\n\u001b[0;32m    393\u001b[0m     params \u001b[38;5;241m=\u001b[39m {}\n\u001b[0;32m    394\u001b[0m params[\u001b[38;5;124m\"\u001b[39m\u001b[38;5;124mid\u001b[39m\u001b[38;5;124m\"\u001b[39m] \u001b[38;5;241m=\u001b[39m \u001b[38;5;28mself\u001b[39m\u001b[38;5;241m.\u001b[39m_id\n\u001b[1;32m--> 395\u001b[0m \u001b[38;5;28;01mreturn\u001b[39;00m \u001b[38;5;28mself\u001b[39m\u001b[38;5;241m.\u001b[39m_parent\u001b[38;5;241m.\u001b[39mexecute(command, params)\n",
      "File \u001b[1;32m~\\anaconda3\\Lib\\site-packages\\selenium\\webdriver\\remote\\webdriver.py:347\u001b[0m, in \u001b[0;36mWebDriver.execute\u001b[1;34m(self, driver_command, params)\u001b[0m\n\u001b[0;32m    345\u001b[0m response \u001b[38;5;241m=\u001b[39m \u001b[38;5;28mself\u001b[39m\u001b[38;5;241m.\u001b[39mcommand_executor\u001b[38;5;241m.\u001b[39mexecute(driver_command, params)\n\u001b[0;32m    346\u001b[0m \u001b[38;5;28;01mif\u001b[39;00m response:\n\u001b[1;32m--> 347\u001b[0m     \u001b[38;5;28mself\u001b[39m\u001b[38;5;241m.\u001b[39merror_handler\u001b[38;5;241m.\u001b[39mcheck_response(response)\n\u001b[0;32m    348\u001b[0m     response[\u001b[38;5;124m\"\u001b[39m\u001b[38;5;124mvalue\u001b[39m\u001b[38;5;124m\"\u001b[39m] \u001b[38;5;241m=\u001b[39m \u001b[38;5;28mself\u001b[39m\u001b[38;5;241m.\u001b[39m_unwrap_value(response\u001b[38;5;241m.\u001b[39mget(\u001b[38;5;124m\"\u001b[39m\u001b[38;5;124mvalue\u001b[39m\u001b[38;5;124m\"\u001b[39m, \u001b[38;5;28;01mNone\u001b[39;00m))\n\u001b[0;32m    349\u001b[0m     \u001b[38;5;28;01mreturn\u001b[39;00m response\n",
      "File \u001b[1;32m~\\anaconda3\\Lib\\site-packages\\selenium\\webdriver\\remote\\errorhandler.py:229\u001b[0m, in \u001b[0;36mErrorHandler.check_response\u001b[1;34m(self, response)\u001b[0m\n\u001b[0;32m    227\u001b[0m         alert_text \u001b[38;5;241m=\u001b[39m value[\u001b[38;5;124m\"\u001b[39m\u001b[38;5;124malert\u001b[39m\u001b[38;5;124m\"\u001b[39m]\u001b[38;5;241m.\u001b[39mget(\u001b[38;5;124m\"\u001b[39m\u001b[38;5;124mtext\u001b[39m\u001b[38;5;124m\"\u001b[39m)\n\u001b[0;32m    228\u001b[0m     \u001b[38;5;28;01mraise\u001b[39;00m exception_class(message, screen, stacktrace, alert_text)  \u001b[38;5;66;03m# type: ignore[call-arg]  # mypy is not smart enough here\u001b[39;00m\n\u001b[1;32m--> 229\u001b[0m \u001b[38;5;28;01mraise\u001b[39;00m exception_class(message, screen, stacktrace)\n",
      "\u001b[1;31mElementNotInteractableException\u001b[0m: Message: element not interactable\n  (Session info: chrome=125.0.6422.142)\nStacktrace:\n\tGetHandleVerifier [0x00007FF786DE1F52+60322]\n\t(No symbol) [0x00007FF786D5CEC9]\n\t(No symbol) [0x00007FF786C17CE9]\n\t(No symbol) [0x00007FF786C61093]\n\t(No symbol) [0x00007FF786C5F20B]\n\t(No symbol) [0x00007FF786C8C21A]\n\t(No symbol) [0x00007FF786C5ADB6]\n\t(No symbol) [0x00007FF786C8C430]\n\t(No symbol) [0x00007FF786CABC80]\n\t(No symbol) [0x00007FF786C8BFC3]\n\t(No symbol) [0x00007FF786C59617]\n\t(No symbol) [0x00007FF786C5A211]\n\tGetHandleVerifier [0x00007FF7870F94AD+3301629]\n\tGetHandleVerifier [0x00007FF7871436D3+3605283]\n\tGetHandleVerifier [0x00007FF787139450+3563680]\n\tGetHandleVerifier [0x00007FF786E94326+790390]\n\t(No symbol) [0x00007FF786D6750F]\n\t(No symbol) [0x00007FF786D63404]\n\t(No symbol) [0x00007FF786D63592]\n\t(No symbol) [0x00007FF786D52F9F]\n\tBaseThreadInitThunk [0x00007FFFDB14257D+29]\n\tRtlUserThreadStart [0x00007FFFDC3CAA48+40]\n"
     ]
    }
   ],
   "source": [
    "# get web element for search button\n",
    "search_bar=driver.find_element(By.CLASS_NAME,\"a4bIc\")\n",
    "#enter text into search bar\n",
    "search_bar.send_keys(search_images)\n",
    "# give time to load the images page\n",
    "time.sleep(5)"
   ]
  },
  {
   "cell_type": "code",
   "execution_count": 24,
   "id": "79ed18af",
   "metadata": {},
   "outputs": [
    {
     "ename": "ElementNotInteractableException",
     "evalue": "Message: element not interactable\n  (Session info: chrome=125.0.6422.142)\nStacktrace:\n\tGetHandleVerifier [0x00007FF786DE1F52+60322]\n\t(No symbol) [0x00007FF786D5CEC9]\n\t(No symbol) [0x00007FF786C17CE9]\n\t(No symbol) [0x00007FF786C61093]\n\t(No symbol) [0x00007FF786C5F20B]\n\t(No symbol) [0x00007FF786C8C21A]\n\t(No symbol) [0x00007FF786C5ADB6]\n\t(No symbol) [0x00007FF786C8C430]\n\t(No symbol) [0x00007FF786CABC80]\n\t(No symbol) [0x00007FF786C8BFC3]\n\t(No symbol) [0x00007FF786C59617]\n\t(No symbol) [0x00007FF786C5A211]\n\tGetHandleVerifier [0x00007FF7870F94AD+3301629]\n\tGetHandleVerifier [0x00007FF7871436D3+3605283]\n\tGetHandleVerifier [0x00007FF787139450+3563680]\n\tGetHandleVerifier [0x00007FF786E94326+790390]\n\t(No symbol) [0x00007FF786D6750F]\n\t(No symbol) [0x00007FF786D63404]\n\t(No symbol) [0x00007FF786D63592]\n\t(No symbol) [0x00007FF786D52F9F]\n\tBaseThreadInitThunk [0x00007FFFDB14257D+29]\n\tRtlUserThreadStart [0x00007FFFDC3CAA48+40]\n",
     "output_type": "error",
     "traceback": [
      "\u001b[1;31m---------------------------------------------------------------------------\u001b[0m",
      "\u001b[1;31mElementNotInteractableException\u001b[0m           Traceback (most recent call last)",
      "Cell \u001b[1;32mIn[24], line 4\u001b[0m\n\u001b[0;32m      2\u001b[0m search_bar\u001b[38;5;241m=\u001b[39mdriver\u001b[38;5;241m.\u001b[39mfind_element(By\u001b[38;5;241m.\u001b[39mCLASS_NAME,\u001b[38;5;124m\"\u001b[39m\u001b[38;5;124ma4bIc\u001b[39m\u001b[38;5;124m\"\u001b[39m)\n\u001b[0;32m      3\u001b[0m \u001b[38;5;66;03m#enter text into search bar\u001b[39;00m\n\u001b[1;32m----> 4\u001b[0m search_bar\u001b[38;5;241m.\u001b[39msend_keys(\u001b[38;5;124m'\u001b[39m\u001b[38;5;124mfruits\u001b[39m\u001b[38;5;124m'\u001b[39m)\n\u001b[0;32m      5\u001b[0m \u001b[38;5;66;03m# give time to load the images page\u001b[39;00m\n\u001b[0;32m      6\u001b[0m time\u001b[38;5;241m.\u001b[39msleep(\u001b[38;5;241m5\u001b[39m)\n",
      "File \u001b[1;32m~\\anaconda3\\Lib\\site-packages\\selenium\\webdriver\\remote\\webelement.py:231\u001b[0m, in \u001b[0;36mWebElement.send_keys\u001b[1;34m(self, *value)\u001b[0m\n\u001b[0;32m    228\u001b[0m             remote_files\u001b[38;5;241m.\u001b[39mappend(\u001b[38;5;28mself\u001b[39m\u001b[38;5;241m.\u001b[39m_upload(file))\n\u001b[0;32m    229\u001b[0m         value \u001b[38;5;241m=\u001b[39m \u001b[38;5;124m\"\u001b[39m\u001b[38;5;130;01m\\n\u001b[39;00m\u001b[38;5;124m\"\u001b[39m\u001b[38;5;241m.\u001b[39mjoin(remote_files)\n\u001b[1;32m--> 231\u001b[0m \u001b[38;5;28mself\u001b[39m\u001b[38;5;241m.\u001b[39m_execute(\n\u001b[0;32m    232\u001b[0m     Command\u001b[38;5;241m.\u001b[39mSEND_KEYS_TO_ELEMENT, {\u001b[38;5;124m\"\u001b[39m\u001b[38;5;124mtext\u001b[39m\u001b[38;5;124m\"\u001b[39m: \u001b[38;5;124m\"\u001b[39m\u001b[38;5;124m\"\u001b[39m\u001b[38;5;241m.\u001b[39mjoin(keys_to_typing(value)), \u001b[38;5;124m\"\u001b[39m\u001b[38;5;124mvalue\u001b[39m\u001b[38;5;124m\"\u001b[39m: keys_to_typing(value)}\n\u001b[0;32m    233\u001b[0m )\n",
      "File \u001b[1;32m~\\anaconda3\\Lib\\site-packages\\selenium\\webdriver\\remote\\webelement.py:395\u001b[0m, in \u001b[0;36mWebElement._execute\u001b[1;34m(self, command, params)\u001b[0m\n\u001b[0;32m    393\u001b[0m     params \u001b[38;5;241m=\u001b[39m {}\n\u001b[0;32m    394\u001b[0m params[\u001b[38;5;124m\"\u001b[39m\u001b[38;5;124mid\u001b[39m\u001b[38;5;124m\"\u001b[39m] \u001b[38;5;241m=\u001b[39m \u001b[38;5;28mself\u001b[39m\u001b[38;5;241m.\u001b[39m_id\n\u001b[1;32m--> 395\u001b[0m \u001b[38;5;28;01mreturn\u001b[39;00m \u001b[38;5;28mself\u001b[39m\u001b[38;5;241m.\u001b[39m_parent\u001b[38;5;241m.\u001b[39mexecute(command, params)\n",
      "File \u001b[1;32m~\\anaconda3\\Lib\\site-packages\\selenium\\webdriver\\remote\\webdriver.py:347\u001b[0m, in \u001b[0;36mWebDriver.execute\u001b[1;34m(self, driver_command, params)\u001b[0m\n\u001b[0;32m    345\u001b[0m response \u001b[38;5;241m=\u001b[39m \u001b[38;5;28mself\u001b[39m\u001b[38;5;241m.\u001b[39mcommand_executor\u001b[38;5;241m.\u001b[39mexecute(driver_command, params)\n\u001b[0;32m    346\u001b[0m \u001b[38;5;28;01mif\u001b[39;00m response:\n\u001b[1;32m--> 347\u001b[0m     \u001b[38;5;28mself\u001b[39m\u001b[38;5;241m.\u001b[39merror_handler\u001b[38;5;241m.\u001b[39mcheck_response(response)\n\u001b[0;32m    348\u001b[0m     response[\u001b[38;5;124m\"\u001b[39m\u001b[38;5;124mvalue\u001b[39m\u001b[38;5;124m\"\u001b[39m] \u001b[38;5;241m=\u001b[39m \u001b[38;5;28mself\u001b[39m\u001b[38;5;241m.\u001b[39m_unwrap_value(response\u001b[38;5;241m.\u001b[39mget(\u001b[38;5;124m\"\u001b[39m\u001b[38;5;124mvalue\u001b[39m\u001b[38;5;124m\"\u001b[39m, \u001b[38;5;28;01mNone\u001b[39;00m))\n\u001b[0;32m    349\u001b[0m     \u001b[38;5;28;01mreturn\u001b[39;00m response\n",
      "File \u001b[1;32m~\\anaconda3\\Lib\\site-packages\\selenium\\webdriver\\remote\\errorhandler.py:229\u001b[0m, in \u001b[0;36mErrorHandler.check_response\u001b[1;34m(self, response)\u001b[0m\n\u001b[0;32m    227\u001b[0m         alert_text \u001b[38;5;241m=\u001b[39m value[\u001b[38;5;124m\"\u001b[39m\u001b[38;5;124malert\u001b[39m\u001b[38;5;124m\"\u001b[39m]\u001b[38;5;241m.\u001b[39mget(\u001b[38;5;124m\"\u001b[39m\u001b[38;5;124mtext\u001b[39m\u001b[38;5;124m\"\u001b[39m)\n\u001b[0;32m    228\u001b[0m     \u001b[38;5;28;01mraise\u001b[39;00m exception_class(message, screen, stacktrace, alert_text)  \u001b[38;5;66;03m# type: ignore[call-arg]  # mypy is not smart enough here\u001b[39;00m\n\u001b[1;32m--> 229\u001b[0m \u001b[38;5;28;01mraise\u001b[39;00m exception_class(message, screen, stacktrace)\n",
      "\u001b[1;31mElementNotInteractableException\u001b[0m: Message: element not interactable\n  (Session info: chrome=125.0.6422.142)\nStacktrace:\n\tGetHandleVerifier [0x00007FF786DE1F52+60322]\n\t(No symbol) [0x00007FF786D5CEC9]\n\t(No symbol) [0x00007FF786C17CE9]\n\t(No symbol) [0x00007FF786C61093]\n\t(No symbol) [0x00007FF786C5F20B]\n\t(No symbol) [0x00007FF786C8C21A]\n\t(No symbol) [0x00007FF786C5ADB6]\n\t(No symbol) [0x00007FF786C8C430]\n\t(No symbol) [0x00007FF786CABC80]\n\t(No symbol) [0x00007FF786C8BFC3]\n\t(No symbol) [0x00007FF786C59617]\n\t(No symbol) [0x00007FF786C5A211]\n\tGetHandleVerifier [0x00007FF7870F94AD+3301629]\n\tGetHandleVerifier [0x00007FF7871436D3+3605283]\n\tGetHandleVerifier [0x00007FF787139450+3563680]\n\tGetHandleVerifier [0x00007FF786E94326+790390]\n\t(No symbol) [0x00007FF786D6750F]\n\t(No symbol) [0x00007FF786D63404]\n\t(No symbol) [0x00007FF786D63592]\n\t(No symbol) [0x00007FF786D52F9F]\n\tBaseThreadInitThunk [0x00007FFFDB14257D+29]\n\tRtlUserThreadStart [0x00007FFFDC3CAA48+40]\n"
     ]
    }
   ],
   "source": [
    "\n",
    "# get webelement for 1st image\n",
    "first_image_wbe=driver.find_element(By.XPATH,\"//div[@class='bRMDJf islir']//following::img\")\n",
    "# get web element for 'more results' buttom\n",
    "more_btn=driver.find_element(By.XPATH,\"//div[@class='qvfT1']\")\n",
    "# scroll to 'more results' button\n",
    "for i in range(5):\n",
    "    driver.execute_script(\"arguments[0].scrollIntoView(true);\",more_btn)\n",
    "    time.sleep(10)\n",
    "# get to the top of page\n",
    "driver.execute_script(\"arguments[0].scrollIntoView(true);\",first_image_wbe)\n",
    "# initiate list before using it\n",
    "images=[]\n",
    "images.clear()\n",
    "# get webelemnts for images on the page\n",
    "images = driver.find_elements(By.XPATH,\"//div[@class='bRMDJf islir']//following::img\")\n",
    "# loop for 10 webelements\n",
    "for i in range(10):\n",
    "    images[i].screenshot('F:/fruit_pics/fruits_'+str(i)+'.png')"
   ]
  },
  {
   "cell_type": "markdown",
   "id": "f2885884",
   "metadata": {},
   "source": [
    "CAR PICTURES"
   ]
  },
  {
   "cell_type": "code",
   "execution_count": 30,
   "id": "29152c51",
   "metadata": {},
   "outputs": [],
   "source": [
    "driver=webdriver.Chrome()\n",
    "\n",
    "# fetching url\n",
    "driver.get('https://www.google.co.in/imghp?hl=en&ogbl')\n",
    "time.sleep(5)"
   ]
  },
  {
   "cell_type": "code",
   "execution_count": 42,
   "id": "bee9fdff",
   "metadata": {},
   "outputs": [
    {
     "ename": "SyntaxError",
     "evalue": "invalid syntax. Perhaps you forgot a comma? (3124965196.py, line 8)",
     "output_type": "error",
     "traceback": [
      "\u001b[1;36m  Cell \u001b[1;32mIn[42], line 8\u001b[1;36m\u001b[0m\n\u001b[1;33m    first_image_wbe=driver.find_element(By.XPATH,\"//div[class=\"H8Rx8c\"]//following::img\")\u001b[0m\n\u001b[1;37m                                                 ^\u001b[0m\n\u001b[1;31mSyntaxError\u001b[0m\u001b[1;31m:\u001b[0m invalid syntax. Perhaps you forgot a comma?\n"
     ]
    }
   ],
   "source": [
    "\n",
    "# get web element for search button\n",
    "search_wbe=driver.find_element(By.XPATH,\"/html/body/div[1]/div[3]/form/div[1]/div[1]/div[1]/div/div[2]/textarea\")\n",
    "#enter text into search bar\n",
    "search_wbe.send_keys('cars',Keys.ENTER)\n",
    "# give time to load the images page\n",
    "time.sleep(5)\n",
    "# get webelement for 1st image\n",
    "first_image_wbe=driver.find_element(By.XPATH,\"//div[class=\"H8Rx8c\"]//following::img\")\n",
    "# get web element for 'more results' buttom\n",
    "more_btn=driver.find_element(By.XPATH,\"//div[@class='qvfT1']\")\n",
    "# scroll to 'more results' button\n",
    "for i in range(5):\n",
    "    driver.execute_script(\"arguments[0].scrollIntoView(true);\",more_btn)\n",
    "    time.sleep(10)\n",
    "# get to the top of page\n",
    "driver.execute_script(\"arguments[0].scrollIntoView(true);\",first_image_wbe)\n",
    "# initiate list before using it\n",
    "images=[]\n",
    "images.clear()\n",
    "# get webelemnts for images on the page\n",
    "images = driver.find_elements(By.XPATH,\"//div[@class='bRMDJf islir']//following::img\")\n",
    "# loop for 100 webelements\n",
    "for i in range(100):\n",
    "    images[i].screenshot('F:/car_pics/car_'+str(i)+'.png')"
   ]
  },
  {
   "cell_type": "markdown",
   "id": "6b0e8287",
   "metadata": {},
   "source": [
    "MACHINE LEARNING PICTURES"
   ]
  },
  {
   "cell_type": "code",
   "execution_count": 38,
   "id": "3b71a2d8",
   "metadata": {},
   "outputs": [
    {
     "ename": "NameError",
     "evalue": "name 'open_url' is not defined",
     "output_type": "error",
     "traceback": [
      "\u001b[1;31m---------------------------------------------------------------------------\u001b[0m",
      "\u001b[1;31mNameError\u001b[0m                                 Traceback (most recent call last)",
      "Cell \u001b[1;32mIn[38], line 1\u001b[0m\n\u001b[1;32m----> 1\u001b[0m open_url(\u001b[38;5;124m'\u001b[39m\u001b[38;5;124mhttps://www.google.co.in/imghp?hl=en&ogbl\u001b[39m\u001b[38;5;124m'\u001b[39m)\n\u001b[0;32m      3\u001b[0m time\u001b[38;5;241m.\u001b[39msleep(\u001b[38;5;241m5\u001b[39m)\n\u001b[0;32m      4\u001b[0m \u001b[38;5;66;03m# get web element for search button\u001b[39;00m\n",
      "\u001b[1;31mNameError\u001b[0m: name 'open_url' is not defined"
     ]
    }
   ],
   "source": [
    "open_url('https://www.google.co.in/imghp?hl=en&ogbl')\n",
    "\n",
    "time.sleep(5)\n",
    "# get web element for search button\n",
    "search_wbe=driver.find_element_by_xpath(\"//div[@class='pR49Ae gsfi']//following::input\")\n",
    "#enter text into search bar\n",
    "search_wbe.send_keys('Machine Learning',Keys.ENTER)\n",
    "# give time to load the images page\n",
    "time.sleep(5)\n",
    "# get webelement for 1st image\n",
    "first_image_wbe=driver.find_element_by_xpath(\"//div[@class='bRMDJf islir']//following::img\")\n",
    "# get web element for 'more results' buttom\n",
    "more_btn=driver.find_element_by_xpath(\"//div[@class='qvfT1']\")\n",
    "# scroll to 'more results' button\n",
    "for i in range(5):\n",
    "    driver.execute_script(\"arguments[0].scrollIntoView(true);\",more_btn)\n",
    "    time.sleep(10)\n",
    "# get to the top of page\n",
    "driver.execute_script(\"arguments[0].scrollIntoView(true);\",first_image_wbe)\n",
    "# initiate list before using it\n",
    "images=[]\n",
    "images.clear()\n",
    "# get webelemnts for images on the page\n",
    "images = driver.find_elements_by_xpath(\"//div[@class='bRMDJf islir']//following::img\")\n",
    "# loop for 100 webelements\n",
    "for i in range(100):\n",
    "    images[i].screenshot('F:/ml_pics/ml_'+str(i)+'.png')"
   ]
  },
  {
   "cell_type": "code",
   "execution_count": null,
   "id": "48dd9c24",
   "metadata": {},
   "outputs": [],
   "source": []
  },
  {
   "cell_type": "code",
   "execution_count": null,
   "id": "bc6ac199",
   "metadata": {},
   "outputs": [],
   "source": []
  },
  {
   "cell_type": "code",
   "execution_count": null,
   "id": "d79a545f",
   "metadata": {},
   "outputs": [],
   "source": []
  },
  {
   "cell_type": "markdown",
   "id": "9421fe4e",
   "metadata": {},
   "source": [
    "QUES 4 :Write a python program to search for a smartphone(e.g.: Oneplus Nord, pixel 4A, etc.) on www.flipkart.com and scrape following details for all the search results displayed on 1st page. Details to be scraped: “Brand Name”, “Smartphone name”, “Colour”, “RAM”, “Storage(ROM)”, “Primary Camera”,\n",
    "“Secondary Camera”, “Display Size”, “Battery Capacity”, “Price”, “Product URL”. Incase if any of the details is missing then replace it by “- “. Save your results in a dataframe and CSV."
   ]
  },
  {
   "cell_type": "code",
   "execution_count": null,
   "id": "99742333",
   "metadata": {},
   "outputs": [],
   "source": [
    "from selenium import webdriver\n",
    "import pandas as pd\n",
    "\n",
    "driver=webdriver.Chrome()\n",
    "\n",
    "# fetching url\n",
    "driver.get(' www.flipkart.com ')\n",
    "\n",
    "# Search for the smartphone\n",
    "search_box = driver.find_element(By.XPATH,'//input[@title=\"Search for products, brands and more\"]')\n",
    "search_box.send_keys('Oneplus Nord')  # Replace 'Oneplus Nord' with the desired smartphone name\n",
    "search_box.submit()\n",
    "\n",
    "# Scrape the details from the search results\n",
    "details = []\n",
    "products = driver.find_elements(By.XPATH,'//div[@class=\"_1AtVbE\"]')\n",
    "for product in products:\n",
    "    product_url = product.find_element(By.XPATH,'.//a').get_attribute('href')\n",
    "    name = product.find_element(By.XPATH,'.//a').text\n",
    "    details.append({\n",
    "    'Product URL': product_url,\n",
    "    'Smartphone Name': name,\n",
    "    # Add other details here using similar methods\n",
    "  })\n",
    "\n",
    "# Create a dataframe and save the results to CSV\n",
    "df = pd.DataFrame(details)\n",
    "df.to_csv('smartphones.csv', index=False)\n",
    "\n",
    "# Close the webdriver\n",
    "driver.quit()"
   ]
  },
  {
   "cell_type": "code",
   "execution_count": null,
   "id": "6d8a6dec",
   "metadata": {},
   "outputs": [],
   "source": []
  },
  {
   "cell_type": "markdown",
   "id": "c5acf152",
   "metadata": {},
   "source": [
    "QUES 5:Write a program to scrap geospatial coordinates (latitude, longitude) of a city searched on google maps."
   ]
  },
  {
   "cell_type": "code",
   "execution_count": 7,
   "id": "629f48a7",
   "metadata": {},
   "outputs": [],
   "source": [
    "driver=webdriver.Chrome()\n",
    "\n",
    "# fetching url\n",
    "driver.get('https://www.google.com/maps/')"
   ]
  },
  {
   "cell_type": "code",
   "execution_count": null,
   "id": "7c73af3b",
   "metadata": {},
   "outputs": [],
   "source": [
    "search_city=input(\"Enter a location: \")"
   ]
  },
  {
   "cell_type": "code",
   "execution_count": 11,
   "id": "821fe235",
   "metadata": {},
   "outputs": [
    {
     "name": "stdout",
     "output_type": "stream",
     "text": [
      "Enter a location: delhi\n",
      "mumbai  Longitude:  21.0521522 \"N\n",
      "mumbai  Lattitude:  73.0521039 \"E\n"
     ]
    }
   ],
   "source": [
    "# get search bar webelement\n",
    "search_bar=driver.find_element(By.XPATH,'//*[@id=\"searchboxinput\"]')\n",
    "# send city name\n",
    "search_bar.send_keys(search_city,Keys.ENTER)\n",
    "time.sleep(10)\n",
    "current_url=driver.current_url\n",
    "longitude=current_url.split('@')[1].split(',')[0]\n",
    "lattitude=current_url.split('@')[1].split(',')[1]\n",
    "print(prompt,\" Longitude: \",longitude,'\"N')\n",
    "print(prompt,\" Lattitude: \",lattitude,'\"E')"
   ]
  },
  {
   "cell_type": "markdown",
   "id": "701c3db0",
   "metadata": {},
   "source": [
    "QUES 6: Write a program to scrap all the available details of best gaming laptops from digit.in."
   ]
  },
  {
   "cell_type": "code",
   "execution_count": null,
   "id": "3ac7861b",
   "metadata": {},
   "outputs": [],
   "source": [
    "driver=webdriver.Chrome()\n",
    "\n",
    "# fetching url\n",
    "driver.get('https://www.digit.in')\n",
    "\n",
    "# click on 'Best gaming laptops' link\n",
    "driver.find_element(By.XPATH,'/html/body/div[3]/div/div[2]/div[2]/div[4]/ul/li[9]/a').click()\n",
    "\n",
    "time.sleep(3)\n",
    "\n",
    "# get laptop names\n",
    "names=[]\n",
    "names.clear()\n",
    "\n",
    "names_wbe=driver.find_elements(By.XPATH,\"//h3\")\n",
    "\n",
    "for i in names_wbe:\n",
    "    names.append(i.text)\n",
    "    \n",
    "time.sleep(2)\n",
    "\n",
    "# get specifications box weblements\n",
    "spec_wbe=driver.find_elements(By.XPATH,\"//div[@class='Spcs-details']\")\n",
    "\n",
    "specs=[]\n",
    "specs.clear()\n",
    "\n",
    "for wbe in spec_wbe:\n",
    "    specs.append(wbe.text)"
   ]
  },
  {
   "cell_type": "code",
   "execution_count": null,
   "id": "f6fb4270",
   "metadata": {},
   "outputs": [],
   "source": [
    "names"
   ]
  },
  {
   "cell_type": "code",
   "execution_count": null,
   "id": "1cca5c86",
   "metadata": {},
   "outputs": [],
   "source": [
    "specs"
   ]
  },
  {
   "cell_type": "code",
   "execution_count": null,
   "id": "eb5981bb",
   "metadata": {},
   "outputs": [],
   "source": [
    "specs[0]"
   ]
  },
  {
   "cell_type": "code",
   "execution_count": null,
   "id": "29126210",
   "metadata": {},
   "outputs": [],
   "source": [
    "temp_specs=[]\n",
    "for specs in specs:\n",
    "    temp_specs.append(specs.split('\\n'))\n",
    "temp_specs[0]"
   ]
  },
  {
   "cell_type": "code",
   "execution_count": null,
   "id": "deca3c0e",
   "metadata": {},
   "outputs": [],
   "source": [
    "temp_specs"
   ]
  },
  {
   "cell_type": "code",
   "execution_count": null,
   "id": "0d334579",
   "metadata": {},
   "outputs": [],
   "source": [
    "temp_specs[0][3][0:3]"
   ]
  },
  {
   "cell_type": "code",
   "execution_count": null,
   "id": "ff51ffe8",
   "metadata": {},
   "outputs": [],
   "source": [
    "os=[]\n",
    "dis=[]\n",
    "processor=[]\n",
    "memory=[]\n",
    "weight=[]\n",
    "dimension=[]\n",
    "graphic=[]\n",
    "price=[]"
   ]
  },
  {
   "cell_type": "code",
   "execution_count": null,
   "id": "d69f03fb",
   "metadata": {},
   "outputs": [],
   "source": [
    "for j in temp_specs:\n",
    "    if len(j)==8:\n",
    "        for i in j:\n",
    "            if i[0]=='O':\n",
    "                os.append(i.split(':')[-1])\n",
    "                time.sleep(2)\n",
    "                continue\n",
    "            if i[0:3]=='Dis':\n",
    "                dis.append(i.split(':')[-1])\n",
    "                time.sleep(2)\n",
    "                continue\n",
    "            if i[0:3]=='Pro':\n",
    "                processor.append(i.split(':')[-1])\n",
    "                time.sleep(2)\n",
    "                continue\n",
    "            if i[0]=='M':\n",
    "                memory.append(i.split(':')[-1])\n",
    "                time.sleep(2)\n",
    "                continue\n",
    "            if i[0]=='W':\n",
    "                weight.append(i.split(':')[-1])\n",
    "                time.sleep(2)\n",
    "                continue\n",
    "            if i[0:3]=='Dim':\n",
    "                dimension.append(i.split(':')[-1])\n",
    "                time.sleep(2)\n",
    "                continue\n",
    "            if i[0]=='G':\n",
    "                graphic.append(i.split(':')[-1])\n",
    "                time.sleep(2)\n",
    "                price.append('--')\n",
    "                continue\n",
    "    elif len(j)==9:\n",
    "        for i in j:\n",
    "            if i[0]=='O':\n",
    "                os.append(i.split(':')[-1])\n",
    "                time.sleep(2)\n",
    "                continue\n",
    "            if i[0:3]=='Dis':\n",
    "                dis.append(i.split(':')[-1])\n",
    "                time.sleep(2)\n",
    "                continue\n",
    "            if i[0:3]=='Pro':\n",
    "                processor.append(i.split(':')[-1])\n",
    "                time.sleep(2)\n",
    "                continue\n",
    "            if i[0]=='M':\n",
    "                memory.append(i.split(':')[-1])\n",
    "                time.sleep(2)\n",
    "                continue\n",
    "            if i[0]=='W':\n",
    "                weight.append(i.split(':')[-1])\n",
    "                time.sleep(2)\n",
    "                continue\n",
    "            if i[0:3]=='Dim':\n",
    "                dimension.append(i.split(':')[-1])\n",
    "                time.sleep(2)\n",
    "                continue\n",
    "            if i[0]=='G':\n",
    "                graphic.append(i.split(':')[-1])\n",
    "                time.sleep(2)\n",
    "                continue\n",
    "            if i[0:3]=='Pri':\n",
    "                price.append(i.split(':')[-1])\n",
    "                time.sleep(2)\n",
    "                continue\n"
   ]
  },
  {
   "cell_type": "code",
   "execution_count": null,
   "id": "5949faae",
   "metadata": {},
   "outputs": [],
   "source": [
    "df_digit=pd.DataFrame({})\n",
    "df_digit['Model Name']=names\n",
    "df_digit['Operating System']=os\n",
    "df_digit['Display']=dis\n",
    "df_digit['Processor']=processor\n",
    "df_digit['Memory']=memory\n",
    "df_digit['Weight']=weight\n",
    "df_digit['Dimension']=dimension\n",
    "df_digit['Graphics Processor']=graphic\n",
    "df_digit['Price']=price"
   ]
  },
  {
   "cell_type": "code",
   "execution_count": null,
   "id": "a2d06ada",
   "metadata": {},
   "outputs": [],
   "source": [
    "df_digit"
   ]
  },
  {
   "cell_type": "code",
   "execution_count": null,
   "id": "a3f4a4b1",
   "metadata": {},
   "outputs": [],
   "source": [
    "df_digit.to_csv('Best gaming laptops.csv',float_format='%.2f',index=False)"
   ]
  },
  {
   "cell_type": "code",
   "execution_count": null,
   "id": "30d28636",
   "metadata": {},
   "outputs": [],
   "source": [
    "df_temp=pd.read_csv('Best gaming laptops.csv')"
   ]
  },
  {
   "cell_type": "code",
   "execution_count": null,
   "id": "61cc83ba",
   "metadata": {},
   "outputs": [],
   "source": [
    "df_temp"
   ]
  },
  {
   "cell_type": "code",
   "execution_count": null,
   "id": "70591c87",
   "metadata": {},
   "outputs": [],
   "source": []
  },
  {
   "cell_type": "code",
   "execution_count": null,
   "id": "e9a3cd2e",
   "metadata": {},
   "outputs": [],
   "source": []
  },
  {
   "cell_type": "code",
   "execution_count": null,
   "id": "20270c5e",
   "metadata": {},
   "outputs": [],
   "source": []
  },
  {
   "cell_type": "code",
   "execution_count": null,
   "id": "e1a628cf",
   "metadata": {},
   "outputs": [],
   "source": []
  },
  {
   "cell_type": "code",
   "execution_count": null,
   "id": "85af1aa4",
   "metadata": {},
   "outputs": [],
   "source": []
  },
  {
   "cell_type": "code",
   "execution_count": null,
   "id": "3f2a6d6b",
   "metadata": {},
   "outputs": [],
   "source": []
  },
  {
   "cell_type": "code",
   "execution_count": null,
   "id": "93c94ad8",
   "metadata": {},
   "outputs": [],
   "source": []
  },
  {
   "cell_type": "code",
   "execution_count": null,
   "id": "c1c7af37",
   "metadata": {},
   "outputs": [],
   "source": []
  },
  {
   "cell_type": "code",
   "execution_count": null,
   "id": "1d864d0c",
   "metadata": {},
   "outputs": [],
   "source": []
  },
  {
   "cell_type": "code",
   "execution_count": null,
   "id": "fe4af9a3",
   "metadata": {},
   "outputs": [],
   "source": []
  },
  {
   "cell_type": "code",
   "execution_count": null,
   "id": "9e0372cb",
   "metadata": {},
   "outputs": [],
   "source": []
  },
  {
   "cell_type": "markdown",
   "id": "d9f5f904",
   "metadata": {},
   "source": [
    "QUES 7: Write a python program to scrape the details for all billionaires from www.forbes.com. Details to be scrapped: “Rank”, “Name”, “Net worth”, “Age”, “Citizenship”, “Source”, “Industry”."
   ]
  },
  {
   "cell_type": "code",
   "execution_count": null,
   "id": "119891a5",
   "metadata": {},
   "outputs": [],
   "source": [
    "driver=webdriver.Chrome()\n",
    "\n",
    "# fetching url\n",
    "driver.get('https://www.forbes.com/billionaires/')\n",
    "driver.maximize_window()\n",
    "time.sleep(2)\n",
    "\n",
    "\n",
    "\n",
    "\n",
    "# Create Empty list\n",
    "rank = []\n",
    "name = []\n",
    "net_worth = []\n",
    "age = []\n",
    "citzn = []\n",
    "source = []\n",
    "industry = []\n",
    "\n",
    "\n",
    "\n",
    "#Fetching Rank\n",
    "rank_tag = driver.find_elements(By.XPATH,\"//div[@class='rank']\")\n",
    "for r in rank_tag:\n",
    "    try:\n",
    "        rank.append(r.text)\n",
    "    except NoSuchElementException:\n",
    "        rank.append(\"-\")\n",
    "\n",
    "\n",
    "\n",
    "\n",
    "\n",
    "#Fetching Name\n",
    "name_tag = driver.find_elements(By.XPATH,\"//div[@class='personName']\")\n",
    "for n in name_tag:\n",
    "    try:\n",
    "        name.append(n.text)\n",
    "    except NoSuchElementException:\n",
    "        name.append(\"-\")\n",
    "\n",
    "\n",
    "\n",
    "\n",
    "\n",
    "#Fetching Net Worth\n",
    "netwrth_tag = driver.find_elements(By.XPATH,\"//div[@class='netWorth']\")\n",
    "for nt in netwrth_tag:\n",
    "    try:\n",
    "        net_worth.append(nt.text)\n",
    "    except NoSuchElementException:\n",
    "        net_worth.append(\"-\")\n",
    "\n",
    "\n",
    "\n",
    "\n",
    "\n",
    "#Fetching Age\n",
    "age_tag = driver.find_elements(By.XPATH,\"//div[@class='age']\")\n",
    "for a in age_tag:\n",
    "    try:\n",
    "        age.append(a.text)\n",
    "    except NoSuchElementException:\n",
    "        age.append(\"-\")\n",
    "\n",
    "\n",
    "\n",
    "\n",
    "\n",
    "#Fetching Citizenship\n",
    "cit_tag = driver.find_elements(By.XPATH,\"//div[@class='countryOfCitizenship']\")\n",
    "for c in cit_tag:\n",
    "    try:\n",
    "        citzn.append(c.text)\n",
    "    except NoSuchElementException:\n",
    "        citzn.append(\"-\")\n",
    "\n",
    "\n",
    "\n",
    "\n",
    "\n",
    "#Fetching Source\n",
    "src_tag = driver.find_elements(By.XPATH,\"//span[@class='source-text']\")\n",
    "for s in src_tag:\n",
    "    try:\n",
    "        source.append(s.text)\n",
    "    except NoSuchElementException:\n",
    "        source.append(\"-\")\n",
    "\n",
    "\n",
    "\n",
    "\n",
    "\n",
    "#Fetching Industry\n",
    "ind_tag = driver.find_elements(By.XPATH,\"//div[@class='category']\")\n",
    "for ind in ind_tag:\n",
    "        try:\n",
    "            industry.append(ind.text)\n",
    "        except NoSuchElementException:\n",
    "            industry.append(\"-\")\n",
    "\n",
    "\n",
    "\n",
    "\n",
    "\n",
    "# Length of all the coloumns\n",
    "len(rank),len(name),len(net_worth),len(age),len(citzn),len(source),len(industry)\n",
    "\n",
    "\n",
    "\n",
    "\n",
    "\n",
    "#create Dataframe\n",
    "Billionaires =pd.DataFrame({'Rank':rank,'Name':name,'Net Worth':net_worth,'Age': age,'Citizenship/Country':citzn,'Source':source,'Industry':industry})\n",
    "Billionaires\n",
    "\n"
   ]
  },
  {
   "cell_type": "code",
   "execution_count": null,
   "id": "8ec3d834",
   "metadata": {},
   "outputs": [],
   "source": []
  },
  {
   "cell_type": "markdown",
   "id": "4e2625c0",
   "metadata": {},
   "source": [
    "QUES 8:Write a program to extract at least 500 Comments, Comment upvote and time when comment was posted from any YouTube Video."
   ]
  },
  {
   "cell_type": "code",
   "execution_count": null,
   "id": "3f4116b6",
   "metadata": {},
   "outputs": [],
   "source": [
    "driver=webdriver.Chrome(\"chromedriver.exe\") \n",
    "time.sleep(2)\n",
    "\n",
    "\n",
    "\n",
    "\n",
    "\n",
    "driver.get(\"https://www.youtube.com/watch?v=USccSZnS8MQ\")\n",
    "driver.maximize_window()\n",
    "time.sleep(2)\n",
    "\n",
    "\n",
    "\n",
    "\n",
    "\n",
    "i=0\n",
    "while(i<100):\n",
    "    driver.execute_script(\"window.scrollBy(0,500)\") # scroll down to get more comments\n",
    "    i+=1\n",
    "while(i<402):\n",
    "    driver.execute_script(\"window.scrollBy(0,5000)\") # scroll down to get more comments\n",
    "    i+=1\n",
    "\n",
    "\n",
    "\n",
    "\n",
    "\n",
    "comment = []\n",
    "upvote = []\n",
    "comment_time = []\n",
    "\n",
    "\n",
    "\n",
    "\n",
    "\n",
    "comment_tag=(driver.find_elements(By.XPATH,'//yt-formatted-string[@id=\"content-text\"]'))\n",
    "for i in comment_tag:             \n",
    "    try:\n",
    "        comment.append(i.text)\n",
    "    except NoSuchElementException:\n",
    "        comment.append(\"-\")\n",
    "\n",
    "\n",
    "\n",
    "\n",
    "\n",
    "upvote_tag=(driver.find_elements(By.XPATH,\"//*[@id='vote-count-middle']\"))\n",
    "for i in upvote_tag:             \n",
    "    try:\n",
    "        upvote.append(i.text)\n",
    "    except NoSuchElementException:\n",
    "        upvote.append(\"-\")\n",
    "\n",
    "\n",
    "\n",
    "\n",
    "\n",
    "comment_time_tag=(driver.find_elements(By.XPATH,\"//*[@id='header-author']/yt-formatted-string/a\"))\n",
    "for i in comment_time_tag:             \n",
    "    try:\n",
    "        comment_time.append(i.text)\n",
    "    except NoSuchElementException:\n",
    "        comment_time.append(\"-\")\n",
    "\n",
    "\n",
    "\n",
    "\n",
    "\n",
    "video=pd.DataFrame({\"Comment\":comment,\"Upvote\":upvote,\"Comment_ Time\":comment_time})\n",
    "video\n",
    "\n"
   ]
  },
  {
   "cell_type": "code",
   "execution_count": null,
   "id": "17430e67",
   "metadata": {},
   "outputs": [],
   "source": []
  },
  {
   "cell_type": "markdown",
   "id": "d14999cf",
   "metadata": {},
   "source": [
    "QUES 9:Write a python program to scrape a data for all available Hostels from https://www.hostelworld.com/ in “London” location. You have to scrape hostel name, distance from city centre, ratings, total reviews, overall reviews, privates from price, dorms from price, facilities and property description."
   ]
  },
  {
   "cell_type": "code",
   "execution_count": null,
   "id": "02d66195",
   "metadata": {},
   "outputs": [],
   "source": [
    "# connecting to the webdriver\n",
    "driver=webdriver.Chrome(r\"C:/Users/HP/Downloads/chromedriver_win32 (1)/chromedriver.exe\")"
   ]
  },
  {
   "cell_type": "code",
   "execution_count": null,
   "id": "1c3689e4",
   "metadata": {},
   "outputs": [],
   "source": [
    "# getting the web page of mentioned url\n",
    "url = \"https://www.hostelworld.com/\"\n",
    "driver.get(url)\n",
    "time.sleep(3)"
   ]
  },
  {
   "cell_type": "code",
   "execution_count": null,
   "id": "ac2d7776",
   "metadata": {},
   "outputs": [],
   "source": [
    "# locating the location search bar\n",
    "search_bar = driver.find_element(By.ID,\"search-input-field\")\n",
    "\n",
    "# entering London in search bar\n",
    "search_bar.send_keys(\"London\")"
   ]
  },
  {
   "cell_type": "code",
   "execution_count": null,
   "id": "467a9613",
   "metadata": {},
   "outputs": [],
   "source": [
    "# select London\n",
    "London = driver.find_element(By.XPATH,\"//ul[@id='predicted-search-results']//li[2]\")\n",
    "#clicking on button\n",
    "London.click()\n",
    "\n",
    "# do click on Let's Go button\n",
    "search_btn = driver.find_element(By.ID,'search-button')\n",
    "search_btn.click()"
   ]
  },
  {
   "cell_type": "code",
   "execution_count": null,
   "id": "0b66508a",
   "metadata": {},
   "outputs": [],
   "source": [
    "# creating empty list & find required data\n",
    "hostel_name = []\n",
    "distance = []\n",
    "pvt_prices = []\n",
    "dorms_price = []\n",
    "rating = []\n",
    "reviews = []\n",
    "over_all = []\n",
    "facilities = []\n",
    "description = []\n",
    "url = []"
   ]
  },
  {
   "cell_type": "code",
   "execution_count": null,
   "id": "27e45a12",
   "metadata": {},
   "outputs": [],
   "source": [
    "# scraping the required informations\n",
    "for i in driver.find_elements(By.XPATH,\"//div[@class='pagination-item pagination-current' or @class='pagination-item']\"):\n",
    "    i.click()\n",
    "    time.sleep(3)\n",
    "\n",
    "# scraping  hostel name\n",
    "    try:\n",
    "        name = driver.find_elements(By.XPATH,\"//h2[@class='title title-6']\")\n",
    "        for i in name:\n",
    "            hostel_name.append(i.text)\n",
    "    except NoSuchElementException:\n",
    "        hostel_name.append('-')\n",
    "        \n",
    "        \n",
    "# scraping distance from city centre\n",
    "    try:\n",
    "        dist = driver.find_elements(By.XPATH,\"//div[@class='subtitle body-3']//a//span[1]\")\n",
    "        for i in name:\n",
    "            distance.append(i.text.replace('Hostel - ',''))\n",
    "    except NoSuchElementException:\n",
    "        distance.append('-')\n",
    "    for i in driver.find_elements(By.XPATH,\"//div[@class='prices-col']\"):   \n",
    "\n",
    "# scraping privates from price\n",
    "        try:\n",
    "            pvt_price = driver.find_element(By.XPATH,\"//a[@class='prices']//div[1]//div\")\n",
    "            pvt_prices.append(pvt_price.text)\n",
    "        except NoSuchElementException:\n",
    "            pvt_prices.append('-')\n",
    "   \n",
    "\n",
    "        for i in driver.find_elements(By.XPATH,\"//div[@class='prices-col']\"):          \n",
    "\n",
    "        \n",
    "# scraping dorms from price\n",
    "        try:\n",
    "            dorms = driver.find_element(By.XPATH,\"//a[@class='prices']//div[2]/div\")\n",
    "            dorms_price.append(dorms.text)\n",
    "        except NoSuchElementException:\n",
    "            dorms_price.append('-')\n",
    "            \n",
    "            \n",
    "# scraping facilities\n",
    "    try:\n",
    "        fac1 = driver.find_elements(By.XPATH,\"//div[@class='has-wifi']\")\n",
    "        fac2 = driver.find_elements(By.XPATH,\"//div[@class='has-sanitation']\")\n",
    "        for i in fac1:\n",
    "            for j in fac2:\n",
    "                facilities.append(i.text +', '+ j.text)\n",
    "    except NoSuchElementException:\n",
    "        facilities.append('-')\n",
    "     \n",
    "            \n",
    "#fetching url of each hostel\n",
    "    p_url = driver.find_elements(By.XPATH,\"//div[@class='prices-col']//a[2]\")\n",
    "    for i in p_url:\n",
    "        url.append(i.get_attribute(\"href\"))\n",
    "        \n",
    "for i in url:\n",
    "    driver.get(i)\n",
    "    time.sleep(3)\n",
    "    \n",
    "\n",
    "# scraping ratings\n",
    "    try:\n",
    "        rat = driver.find_element(By.XPATH,\"//div[@class='score orange big' or @class='score gray big']\")\n",
    "        rating.append(rat.text)\n",
    "    except NoSuchElementException:\n",
    "        rating.append('-')\n",
    "        \n",
    "        \n",
    "# scraping total review\n",
    "    try:\n",
    "        rws = driver.find_element(By.XPATH,\"//div[@class='reviews']\")\n",
    "        reviews.append(rws.text.replace('Total Reviews',''))\n",
    "    except NoSuchElementException:\n",
    "        reviews.append('-')\n",
    "        \n",
    "        \n",
    "# fetching over all review\n",
    "    try:\n",
    "        overall = driver.find_element(By.XPATH,\"//div[@class='keyword']//span\")\n",
    "        over_all.append(overall.text)\n",
    "    except NoSuchElementException:\n",
    "        over_all.append('-')\n",
    "        \n",
    "        \n",
    "# fetching property description\n",
    "    try:\n",
    "        disc = driver.find_element(By.XPATH,\"//div[@class='content']\")\n",
    "        description.append(disc.text)\n",
    "    except NoSuchElementException:\n",
    "        over_all.append('-')\n",
    "    \n",
    "# do click on show more button for description\n",
    "    try:\n",
    "        driver.find_element(By.XPATH,\"//a[@class='toggle-content']\").click()\n",
    "        time.sleep(4)\n",
    "    except NoSuchElementException:\n",
    "        pass   "
   ]
  },
  {
   "cell_type": "code",
   "execution_count": null,
   "id": "e3f68380",
   "metadata": {},
   "outputs": [],
   "source": [
    "print(len(hostel_name),\n",
    "len(distance),\n",
    "len(pvt_prices),\n",
    "len(dorms_price),\n",
    "len(rating),\n",
    "len(reviews),\n",
    "len(over_all),\n",
    "len(facilities),\n",
    "len(description),\n",
    "len(url))"
   ]
  },
  {
   "cell_type": "code",
   "execution_count": null,
   "id": "a645b3ac",
   "metadata": {},
   "outputs": [],
   "source": [
    "# creating DataFrame\n",
    "Hostel = pd.DataFrame({})\n",
    "Hostel['Hostel Name'] = hostel_name\n",
    "Hostel['Distance from City Centre'] = distance\n",
    "Hostel['Ratings'] = rating\n",
    "Hostel['Total Reviews'] = reviews\n",
    "Hostel['Overall Reviews'] = over_all\n",
    "Hostel['Privates from Price'] = pvt_prices\n",
    "Hostel['Dorms from Price'] = dorms_price\n",
    "Hostel['Facilities'] = facilities[:74]\n",
    "Hostel['Description'] = description\n",
    "Hostel"
   ]
  },
  {
   "cell_type": "code",
   "execution_count": null,
   "id": "232f4908",
   "metadata": {},
   "outputs": [],
   "source": [
    "# saving the dataset to csv\n",
    "Hostel.to_csv(\"London_Hostels.csv\")"
   ]
  },
  {
   "cell_type": "code",
   "execution_count": null,
   "id": "9a4f04aa",
   "metadata": {},
   "outputs": [],
   "source": [
    "\n",
    "driver.close()"
   ]
  },
  {
   "cell_type": "code",
   "execution_count": null,
   "id": "ae1b29b0",
   "metadata": {},
   "outputs": [],
   "source": []
  },
  {
   "cell_type": "code",
   "execution_count": null,
   "id": "1c169244",
   "metadata": {},
   "outputs": [],
   "source": []
  },
  {
   "cell_type": "code",
   "execution_count": null,
   "id": "84eb0172",
   "metadata": {},
   "outputs": [],
   "source": []
  },
  {
   "cell_type": "code",
   "execution_count": null,
   "id": "ff1d72b3",
   "metadata": {},
   "outputs": [],
   "source": []
  },
  {
   "cell_type": "code",
   "execution_count": null,
   "id": "802c180a",
   "metadata": {},
   "outputs": [],
   "source": []
  },
  {
   "cell_type": "code",
   "execution_count": null,
   "id": "54288759",
   "metadata": {},
   "outputs": [],
   "source": []
  },
  {
   "cell_type": "code",
   "execution_count": null,
   "id": "169705c2",
   "metadata": {},
   "outputs": [],
   "source": []
  },
  {
   "cell_type": "code",
   "execution_count": null,
   "id": "255a0c7e",
   "metadata": {},
   "outputs": [],
   "source": []
  },
  {
   "cell_type": "code",
   "execution_count": null,
   "id": "af45ae05",
   "metadata": {},
   "outputs": [],
   "source": []
  },
  {
   "cell_type": "code",
   "execution_count": null,
   "id": "fa1fabca",
   "metadata": {},
   "outputs": [],
   "source": []
  },
  {
   "cell_type": "code",
   "execution_count": null,
   "id": "7d0afd63",
   "metadata": {},
   "outputs": [],
   "source": []
  },
  {
   "cell_type": "code",
   "execution_count": null,
   "id": "29428772",
   "metadata": {},
   "outputs": [],
   "source": []
  },
  {
   "cell_type": "code",
   "execution_count": null,
   "id": "f02d2f61",
   "metadata": {},
   "outputs": [],
   "source": []
  },
  {
   "cell_type": "code",
   "execution_count": null,
   "id": "95d9c9bb",
   "metadata": {},
   "outputs": [],
   "source": []
  },
  {
   "cell_type": "code",
   "execution_count": null,
   "id": "2f57c966",
   "metadata": {},
   "outputs": [],
   "source": []
  },
  {
   "cell_type": "code",
   "execution_count": null,
   "id": "fb3c2f61",
   "metadata": {},
   "outputs": [],
   "source": []
  },
  {
   "cell_type": "code",
   "execution_count": null,
   "id": "58c63dba",
   "metadata": {},
   "outputs": [],
   "source": []
  },
  {
   "cell_type": "code",
   "execution_count": null,
   "id": "a5c63b84",
   "metadata": {},
   "outputs": [],
   "source": []
  },
  {
   "cell_type": "code",
   "execution_count": null,
   "id": "0d9b9920",
   "metadata": {},
   "outputs": [],
   "source": []
  },
  {
   "cell_type": "code",
   "execution_count": null,
   "id": "28559f1c",
   "metadata": {},
   "outputs": [],
   "source": []
  },
  {
   "cell_type": "code",
   "execution_count": null,
   "id": "1ea336a4",
   "metadata": {},
   "outputs": [],
   "source": []
  },
  {
   "cell_type": "code",
   "execution_count": null,
   "id": "90a59916",
   "metadata": {},
   "outputs": [],
   "source": []
  },
  {
   "cell_type": "code",
   "execution_count": null,
   "id": "398b310a",
   "metadata": {},
   "outputs": [],
   "source": []
  },
  {
   "cell_type": "code",
   "execution_count": null,
   "id": "360fbab1",
   "metadata": {},
   "outputs": [],
   "source": []
  },
  {
   "cell_type": "code",
   "execution_count": null,
   "id": "046c25c4",
   "metadata": {},
   "outputs": [],
   "source": []
  },
  {
   "cell_type": "code",
   "execution_count": null,
   "id": "4350f89d",
   "metadata": {},
   "outputs": [],
   "source": []
  },
  {
   "cell_type": "code",
   "execution_count": null,
   "id": "d073f746",
   "metadata": {},
   "outputs": [],
   "source": []
  },
  {
   "cell_type": "code",
   "execution_count": null,
   "id": "beeed92a",
   "metadata": {},
   "outputs": [],
   "source": []
  },
  {
   "cell_type": "code",
   "execution_count": null,
   "id": "c686f8ab",
   "metadata": {},
   "outputs": [],
   "source": []
  },
  {
   "cell_type": "code",
   "execution_count": null,
   "id": "b4d2f1d6",
   "metadata": {},
   "outputs": [],
   "source": []
  },
  {
   "cell_type": "code",
   "execution_count": null,
   "id": "f0fd191e",
   "metadata": {},
   "outputs": [],
   "source": []
  },
  {
   "cell_type": "code",
   "execution_count": null,
   "id": "626f3221",
   "metadata": {},
   "outputs": [],
   "source": []
  },
  {
   "cell_type": "code",
   "execution_count": null,
   "id": "573757b6",
   "metadata": {},
   "outputs": [],
   "source": []
  },
  {
   "cell_type": "code",
   "execution_count": null,
   "id": "2d54b234",
   "metadata": {},
   "outputs": [],
   "source": []
  },
  {
   "cell_type": "code",
   "execution_count": null,
   "id": "67a6c820",
   "metadata": {},
   "outputs": [],
   "source": []
  },
  {
   "cell_type": "code",
   "execution_count": null,
   "id": "f95f6832",
   "metadata": {},
   "outputs": [],
   "source": []
  },
  {
   "cell_type": "code",
   "execution_count": null,
   "id": "3127f8d1",
   "metadata": {},
   "outputs": [],
   "source": []
  },
  {
   "cell_type": "code",
   "execution_count": null,
   "id": "fe1d44f1",
   "metadata": {},
   "outputs": [],
   "source": []
  },
  {
   "cell_type": "code",
   "execution_count": null,
   "id": "4b208052",
   "metadata": {},
   "outputs": [],
   "source": []
  },
  {
   "cell_type": "code",
   "execution_count": null,
   "id": "a50039aa",
   "metadata": {},
   "outputs": [],
   "source": []
  },
  {
   "cell_type": "code",
   "execution_count": null,
   "id": "5ae753e4",
   "metadata": {},
   "outputs": [],
   "source": []
  },
  {
   "cell_type": "code",
   "execution_count": null,
   "id": "e0d30780",
   "metadata": {},
   "outputs": [],
   "source": []
  },
  {
   "cell_type": "code",
   "execution_count": null,
   "id": "5396f51c",
   "metadata": {},
   "outputs": [],
   "source": []
  },
  {
   "cell_type": "code",
   "execution_count": null,
   "id": "9adf9780",
   "metadata": {},
   "outputs": [],
   "source": []
  },
  {
   "cell_type": "code",
   "execution_count": null,
   "id": "a40892fe",
   "metadata": {},
   "outputs": [],
   "source": []
  },
  {
   "cell_type": "code",
   "execution_count": null,
   "id": "cb20fbe7",
   "metadata": {},
   "outputs": [],
   "source": []
  },
  {
   "cell_type": "code",
   "execution_count": null,
   "id": "03744637",
   "metadata": {},
   "outputs": [],
   "source": []
  },
  {
   "cell_type": "code",
   "execution_count": null,
   "id": "98229984",
   "metadata": {},
   "outputs": [],
   "source": []
  },
  {
   "cell_type": "code",
   "execution_count": null,
   "id": "3019e09b",
   "metadata": {},
   "outputs": [],
   "source": []
  },
  {
   "cell_type": "code",
   "execution_count": null,
   "id": "9a3e4f77",
   "metadata": {},
   "outputs": [],
   "source": []
  },
  {
   "cell_type": "code",
   "execution_count": null,
   "id": "b98be207",
   "metadata": {},
   "outputs": [],
   "source": []
  },
  {
   "cell_type": "code",
   "execution_count": null,
   "id": "2765ecfc",
   "metadata": {},
   "outputs": [],
   "source": []
  },
  {
   "cell_type": "code",
   "execution_count": null,
   "id": "ab907b01",
   "metadata": {},
   "outputs": [],
   "source": []
  },
  {
   "cell_type": "code",
   "execution_count": null,
   "id": "04fe2969",
   "metadata": {},
   "outputs": [],
   "source": []
  },
  {
   "cell_type": "code",
   "execution_count": null,
   "id": "7f8afbc1",
   "metadata": {},
   "outputs": [],
   "source": []
  },
  {
   "cell_type": "code",
   "execution_count": null,
   "id": "af0a925c",
   "metadata": {},
   "outputs": [],
   "source": []
  },
  {
   "cell_type": "code",
   "execution_count": null,
   "id": "925b3b3c",
   "metadata": {},
   "outputs": [],
   "source": []
  },
  {
   "cell_type": "code",
   "execution_count": null,
   "id": "b81eefb6",
   "metadata": {},
   "outputs": [],
   "source": []
  },
  {
   "cell_type": "code",
   "execution_count": null,
   "id": "5b6a5ac6",
   "metadata": {},
   "outputs": [],
   "source": []
  },
  {
   "cell_type": "code",
   "execution_count": null,
   "id": "34a2fcdd",
   "metadata": {},
   "outputs": [],
   "source": []
  },
  {
   "cell_type": "code",
   "execution_count": null,
   "id": "8bab7c83",
   "metadata": {},
   "outputs": [],
   "source": []
  },
  {
   "cell_type": "code",
   "execution_count": null,
   "id": "a8b84612",
   "metadata": {},
   "outputs": [],
   "source": []
  },
  {
   "cell_type": "code",
   "execution_count": null,
   "id": "4ce52615",
   "metadata": {},
   "outputs": [],
   "source": []
  }
 ],
 "metadata": {
  "kernelspec": {
   "display_name": "Python 3 (ipykernel)",
   "language": "python",
   "name": "python3"
  },
  "language_info": {
   "codemirror_mode": {
    "name": "ipython",
    "version": 3
   },
   "file_extension": ".py",
   "mimetype": "text/x-python",
   "name": "python",
   "nbconvert_exporter": "python",
   "pygments_lexer": "ipython3",
   "version": "3.11.5"
  }
 },
 "nbformat": 4,
 "nbformat_minor": 5
}
