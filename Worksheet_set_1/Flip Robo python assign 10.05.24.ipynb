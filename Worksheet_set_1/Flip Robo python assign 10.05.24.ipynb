{
 "cells": [
  {
   "cell_type": "code",
   "execution_count": 1,
   "id": "db930b5f",
   "metadata": {},
   "outputs": [],
   "source": [
    "a=2//3"
   ]
  },
  {
   "cell_type": "code",
   "execution_count": 8,
   "id": "067dfb53",
   "metadata": {},
   "outputs": [
    {
     "name": "stdout",
     "output_type": "stream",
     "text": [
      "0\n"
     ]
    }
   ],
   "source": [
    "print(a)"
   ]
  },
  {
   "cell_type": "code",
   "execution_count": 7,
   "id": "8d935dbc",
   "metadata": {},
   "outputs": [
    {
     "data": {
      "text/plain": [
       "24"
      ]
     },
     "execution_count": 7,
     "metadata": {},
     "output_type": "execute_result"
    }
   ],
   "source": [
    "6<<2"
   ]
  },
  {
   "cell_type": "code",
   "execution_count": 9,
   "id": "ae5dabed",
   "metadata": {},
   "outputs": [
    {
     "data": {
      "text/plain": [
       "2"
      ]
     },
     "execution_count": 9,
     "metadata": {},
     "output_type": "execute_result"
    }
   ],
   "source": [
    "6&2"
   ]
  },
  {
   "cell_type": "code",
   "execution_count": 10,
   "id": "9b353e49",
   "metadata": {},
   "outputs": [
    {
     "data": {
      "text/plain": [
       "6"
      ]
     },
     "execution_count": 10,
     "metadata": {},
     "output_type": "execute_result"
    }
   ],
   "source": [
    "6|2"
   ]
  },
  {
   "cell_type": "markdown",
   "id": "50919383",
   "metadata": {},
   "source": [
    "11. Write a python program to find the factorial of a number. "
   ]
  },
  {
   "cell_type": "code",
   "execution_count": 10,
   "id": "a1a14666",
   "metadata": {},
   "outputs": [
    {
     "name": "stdout",
     "output_type": "stream",
     "text": [
      "Enter a Number:6\n",
      "The Factorial of 6 is: 720\n"
     ]
    }
   ],
   "source": [
    "x=int(input(\"Enter a Number:\"))\n",
    "n=1\n",
    "if x>=1:\n",
    "    for i in range(1,x+1):\n",
    "        n=n*i\n",
    "print(\"The Factorial of\",x,\"is:\",n)"
   ]
  },
  {
   "cell_type": "markdown",
   "id": "ad5d6efe",
   "metadata": {},
   "source": [
    "12. Write a python program to find whether a number is prime or composite. "
   ]
  },
  {
   "cell_type": "code",
   "execution_count": 35,
   "id": "d288290b",
   "metadata": {},
   "outputs": [
    {
     "name": "stdout",
     "output_type": "stream",
     "text": [
      "Enter a number: 1\n",
      "1 is neither a prime or composite number\n"
     ]
    }
   ],
   "source": [
    "n = int (input (\"Enter a number: \"))\n",
    "if n > 1:\n",
    "    for i in range(2,int(n//2)+1):\n",
    "        if (n % i) == 0:\n",
    "            print(n, \"is a composite number\")\n",
    "            break\n",
    "    else:\n",
    "            print(n, \"is a prime number\")\n",
    "else:\n",
    "    if n==1:\n",
    "        print(n, \"is neither a prime or composite number\")\n"
   ]
  },
  {
   "cell_type": "markdown",
   "id": "4df8e263",
   "metadata": {},
   "source": [
    "13. Write a python program to check whether a given string is palindrome or not. \n",
    "\n",
    "\n"
   ]
  },
  {
   "cell_type": "code",
   "execution_count": 1,
   "id": "585fe589",
   "metadata": {},
   "outputs": [
    {
     "name": "stdout",
     "output_type": "stream",
     "text": [
      "Enter the string to check if it is a palindrome:jakarta\n",
      "The string is not a palindrome.\n"
     ]
    }
   ],
   "source": [
    "string = input (\"Enter the string to check if it is a palindrome:\")\n",
    "string = string.casefold()\n",
    "rev_string = reversed(string)\n",
    "if list(string) == list(rev_string):\n",
    "              print (\"The string is a palindrome.\")\n",
    "else:\n",
    "              print (\"The string is not a palindrome.\")\n",
    "        "
   ]
  },
  {
   "cell_type": "markdown",
   "id": "ff161b26",
   "metadata": {},
   "source": [
    "14. Write a Python program to get the third side of right-angled triangle from two given sides. "
   ]
  },
  {
   "cell_type": "code",
   "execution_count": 21,
   "id": "457f0b29",
   "metadata": {},
   "outputs": [],
   "source": [
    "def right_ang_triangle(base,perpendicular,hypotenuse):\n",
    "    if base == str('x'):\n",
    "        return(\"base=\"+ str(((hypotenuse**2)-(perpendicular**2))**0.5))\n",
    "    elif perpendicular == str('x'):\n",
    "        return(\"perpendicular=\"+ str(((hypotenuse**2)-(base**2))**0.5))\n",
    "    elif hypotenuse == str(\"x\"):\n",
    "        return (\"Hypotenuse = \" + str(((base**2) + (perpendicular**2))**0.5))\n",
    "    "
   ]
  },
  {
   "cell_type": "code",
   "execution_count": 23,
   "id": "0cde9ed2",
   "metadata": {},
   "outputs": [
    {
     "data": {
      "text/plain": [
       "'base=8.48528137423857'"
      ]
     },
     "execution_count": 23,
     "metadata": {},
     "output_type": "execute_result"
    }
   ],
   "source": [
    "right_ang_triangle('x',7,11)\n"
   ]
  },
  {
   "cell_type": "markdown",
   "id": "61a18f7d",
   "metadata": {},
   "source": [
    "15. Write a python program to print the frequency of each of the characters present in a given string. \n",
    "\n"
   ]
  },
  {
   "cell_type": "code",
   "execution_count": 24,
   "id": "fc27f165",
   "metadata": {},
   "outputs": [
    {
     "name": "stdout",
     "output_type": "stream",
     "text": [
      "Enter the string:Data Trained\n",
      "Frequency of all characters in  Data Trained is : {'D': 1}\n",
      "Frequency of all characters in  Data Trained is : {'D': 1, 'a': 1}\n",
      "Frequency of all characters in  Data Trained is : {'D': 1, 'a': 1, 't': 1}\n",
      "Frequency of all characters in  Data Trained is : {'D': 1, 'a': 2, 't': 1}\n",
      "Frequency of all characters in  Data Trained is : {'D': 1, 'a': 2, 't': 1, ' ': 1}\n",
      "Frequency of all characters in  Data Trained is : {'D': 1, 'a': 2, 't': 1, ' ': 1, 'T': 1}\n",
      "Frequency of all characters in  Data Trained is : {'D': 1, 'a': 2, 't': 1, ' ': 1, 'T': 1, 'r': 1}\n",
      "Frequency of all characters in  Data Trained is : {'D': 1, 'a': 3, 't': 1, ' ': 1, 'T': 1, 'r': 1}\n",
      "Frequency of all characters in  Data Trained is : {'D': 1, 'a': 3, 't': 1, ' ': 1, 'T': 1, 'r': 1, 'i': 1}\n",
      "Frequency of all characters in  Data Trained is : {'D': 1, 'a': 3, 't': 1, ' ': 1, 'T': 1, 'r': 1, 'i': 1, 'n': 1}\n",
      "Frequency of all characters in  Data Trained is : {'D': 1, 'a': 3, 't': 1, ' ': 1, 'T': 1, 'r': 1, 'i': 1, 'n': 1, 'e': 1}\n",
      "Frequency of all characters in  Data Trained is : {'D': 1, 'a': 3, 't': 1, ' ': 1, 'T': 1, 'r': 1, 'i': 1, 'n': 1, 'e': 1, 'd': 1}\n"
     ]
    }
   ],
   "source": [
    "string = input (\"Enter the string:\")\n",
    "frequency = {}\n",
    "for i in string:\n",
    "    if i in frequency:\n",
    "        frequency[i] += 1\n",
    "    else:\n",
    "        frequency[i] = 1\n",
    "    print(\"Frequency of all characters in \",string ,\"is : \"+ str(frequency))"
   ]
  },
  {
   "cell_type": "code",
   "execution_count": null,
   "id": "7cf9e3a4",
   "metadata": {},
   "outputs": [],
   "source": []
  }
 ],
 "metadata": {
  "kernelspec": {
   "display_name": "Python 3 (ipykernel)",
   "language": "python",
   "name": "python3"
  },
  "language_info": {
   "codemirror_mode": {
    "name": "ipython",
    "version": 3
   },
   "file_extension": ".py",
   "mimetype": "text/x-python",
   "name": "python",
   "nbconvert_exporter": "python",
   "pygments_lexer": "ipython3",
   "version": "3.11.5"
  }
 },
 "nbformat": 4,
 "nbformat_minor": 5
}
